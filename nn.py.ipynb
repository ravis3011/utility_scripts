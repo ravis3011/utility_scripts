{
 "cells": [
  {
   "cell_type": "code",
   "execution_count": 1,
   "metadata": {
    "collapsed": true
   },
   "outputs": [],
   "source": [
    "import numpy as np, math"
   ]
  },
  {
   "cell_type": "code",
   "execution_count": 9,
   "metadata": {},
   "outputs": [
    {
     "name": "stdout",
     "output_type": "stream",
     "text": [
      "0.42000000000000004 0.16999999999999998\n"
     ]
    }
   ],
   "source": [
    "#learning rate\n",
    "lr = 0.99\n",
    "\n",
    "#input\n",
    "\n",
    "x1 = 1\n",
    "x2 = 0\n",
    "\n",
    "\n",
    "#target \n",
    "t1 = 1\n",
    "\n",
    "#input to hidden layer\n",
    "w1 = 0.2\n",
    "w2 = 0.12\n",
    "w3 = 0.35\n",
    "w4 = 0.2\n",
    "\n",
    "\n",
    "#hidden layer to output layer\n",
    "w5 = 0.1\n",
    "w6 = 0.23\n",
    "\n",
    "#hidden layer bias\n",
    "bias_in1 = 0.22\n",
    "bias_in2 = 0.05\n",
    "\n",
    "#output bias\n",
    "bias_out1 = 0.02\n",
    "\n",
    "input = np.array([x1,x2,1])\n",
    "\n",
    "w_123456 = np.array([[w1,w2],[w3,w4],[bias_in1,bias_in2]])\n",
    "\n",
    "w_7890 = np.array([[w5],[w6],[bias_out1]])\n",
    "\n",
    "[z_h1, z_h2] = input.dot(w_123456)\n",
    "\n",
    "print(z_h1, z_h2)\n",
    "\n"
   ]
  },
  {
   "cell_type": "markdown",
   "metadata": {},
   "source": [
    "Calclating the sigmoid activation for hidden layer"
   ]
  },
  {
   "cell_type": "code",
   "execution_count": 10,
   "metadata": {},
   "outputs": [
    {
     "name": "stdout",
     "output_type": "stream",
     "text": [
      "[0.60348325 0.54239794 1.        ]\n"
     ]
    }
   ],
   "source": [
    "h1 = 1/(1+math.exp(-z_h1))\n",
    "h2 = 1/(1+math.exp(-z_h2))\n",
    "hidden = [h1,h2,1]\n",
    "hidden = np.array(hidden)\n",
    "print(hidden)"
   ]
  },
  {
   "cell_type": "code",
   "execution_count": 11,
   "metadata": {},
   "outputs": [
    {
     "name": "stdout",
     "output_type": "stream",
     "text": [
      "[0.20509985]\n",
      "0.5510959715827218\n"
     ]
    }
   ],
   "source": [
    "z_o1 = hidden.dot(w_7890)\n",
    "print(z_o1)\n",
    "o1 = 1/(1+math.exp(-z_o1))\n",
    "print(o1)"
   ]
  },
  {
   "cell_type": "markdown",
   "metadata": {},
   "source": [
    "Weight derivatives "
   ]
  },
  {
   "cell_type": "code",
   "execution_count": 12,
   "metadata": {},
   "outputs": [
    {
     "name": "stdout",
     "output_type": "stream",
     "text": [
      "-0.0670192343974206 0.1663490420534464\n"
     ]
    }
   ],
   "source": [
    "#for w5\n",
    "der_o1wrtz_o1 = o1*(1-o1)\n",
    "derE_wrt_o1 = o1-t1\n",
    "derZ_o1wrtw5 = h1\n",
    "derEwrt_w5 = der_o1wrtz_o1*derE_wrt_o1*derZ_o1wrtw5\n",
    "w5_new = w5 - lr*derEwrt_w5\n",
    "print(derEwrt_w5, w5_new)"
   ]
  },
  {
   "cell_type": "code",
   "execution_count": 13,
   "metadata": {},
   "outputs": [
    {
     "name": "stdout",
     "output_type": "stream",
     "text": [
      "-0.06023546591820527 0.28963311125902325\n"
     ]
    }
   ],
   "source": [
    "#for w6\n",
    "der_o1wrtz_o1 = o1*(1-o1)\n",
    "derE_wrt_o1 = o1-t1\n",
    "derZ_o1wrtw6 = h2\n",
    "derEwrt_w6 = der_o1wrtz_o1*derE_wrt_o1*derZ_o1wrtw6\n",
    "w6_new = w6 - lr*derEwrt_w6\n",
    "print(derEwrt_w6, w6_new)"
   ]
  },
  {
   "cell_type": "code",
   "execution_count": 14,
   "metadata": {},
   "outputs": [
    {
     "name": "stdout",
     "output_type": "stream",
     "text": [
      "-0.11105400922468564 0.1299434691324388\n"
     ]
    }
   ],
   "source": [
    "#for bias(output)\n",
    "der_o1wrtz_o1 = o1*(1-o1)\n",
    "derE_wrt_o1 = o1-t1\n",
    "derZ_o1wrtb1 = 1\n",
    "derEwrt_b_out = der_o1wrtz_o1*derE_wrt_o1*derZ_o1wrtb1\n",
    "bias_out_new = bias_out1 - lr*derEwrt_b_out\n",
    "print(derEwrt_b_out, bias_out_new)"
   ]
  },
  {
   "cell_type": "code",
   "execution_count": 15,
   "metadata": {},
   "outputs": [
    {
     "name": "stdout",
     "output_type": "stream",
     "text": [
      "0.20263085065296213 0.12627629393733708 0.35 0.2\n"
     ]
    }
   ],
   "source": [
    "der_EwrtW1 = (o1-t1)*o1*(1-o1)*w5*h1*(1-h1)*x1\n",
    "der_EwrtW2 = (o1-t1)*o1*(1-o1)*w6*h2*(1-h2)*x1\n",
    "der_EwrtW3 = (o1-t1)*o1*(1-o1)*w5*h1*(1-h1)*x2\n",
    "der_EwrtW4 = (o1-t1)*o1*(1-o1)*w6*h2*(1-h2)*x2\n",
    "\n",
    "w1_new = w1 - lr*der_EwrtW1\n",
    "w2_new = w2 - lr*der_EwrtW2\n",
    "w3_new = w3 - lr*der_EwrtW3\n",
    "w4_new = w4 - lr*der_EwrtW4\n",
    "\n",
    "print(w1_new, w2_new, w3_new, w4_new)"
   ]
  },
  {
   "cell_type": "code",
   "execution_count": null,
   "metadata": {
    "collapsed": true
   },
   "outputs": [],
   "source": []
  }
 ],
 "metadata": {
  "kernelspec": {
   "display_name": "Python 3",
   "language": "python",
   "name": "python3"
  },
  "language_info": {
   "codemirror_mode": {
    "name": "ipython",
    "version": 3
   },
   "file_extension": ".py",
   "mimetype": "text/x-python",
   "name": "python",
   "nbconvert_exporter": "python",
   "pygments_lexer": "ipython3",
   "version": "3.6.3"
  }
 },
 "nbformat": 4,
 "nbformat_minor": 2
}
